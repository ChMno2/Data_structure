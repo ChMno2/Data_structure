{
  "nbformat": 4,
  "nbformat_minor": 0,
  "metadata": {
    "colab": {
      "provenance": [],
      "mount_file_id": "1Yq_dTC6C_qXn4ncGIyXlqGbTv305MaMQ",
      "authorship_tag": "ABX9TyOWm99do7UuAsILv2C+tVnw",
      "include_colab_link": true
    },
    "kernelspec": {
      "name": "python3",
      "display_name": "Python 3"
    },
    "language_info": {
      "name": "python"
    }
  },
  "cells": [
    {
      "cell_type": "markdown",
      "metadata": {
        "id": "view-in-github",
        "colab_type": "text"
      },
      "source": [
        "<a href=\"https://colab.research.google.com/github/ChMno2/Data_structure/blob/main/Removing%20Stars%20From%20a%20String.ipynb\" target=\"_parent\"><img src=\"https://colab.research.google.com/assets/colab-badge.svg\" alt=\"Open In Colab\"/></a>"
      ]
    },
    {
      "cell_type": "markdown",
      "source": [
        "### 給定村民人數 N 與確診村民編號 M，接下來會有 N 筆 S、T 數對代表的是編號 S 和編號 T 的村民接觸過。請求出間接、直接接觸的村民有哪些人 (要把他們抓起來隔離)。\n"
      ],
      "metadata": {
        "id": "5x_LFcolGC4s"
      }
    },
    {
      "cell_type": "markdown",
      "source": [
        "[# 無向連通圖](https://)"
      ],
      "metadata": {
        "id": "UKSWRTPHSKYR"
      }
    },
    {
      "cell_type": "code",
      "source": [
        "from google.colab import drive\n",
        "drive.mount('/content/drive')"
      ],
      "metadata": {
        "colab": {
          "base_uri": "https://localhost:8080/"
        },
        "id": "1kyc1AnMMLuC",
        "outputId": "04b82e53-65a3-4a70-8f7e-c06217994fad"
      },
      "execution_count": 7,
      "outputs": [
        {
          "output_type": "stream",
          "name": "stdout",
          "text": [
            "Drive already mounted at /content/drive; to attempt to forcibly remount, call drive.mount(\"/content/drive\", force_remount=True).\n"
          ]
        }
      ]
    },
    {
      "cell_type": "code",
      "source": [
        "%%writefile /content/drive/MyDrive/C++/3.cpp\n",
        "\n",
        "#include <iostream>\n",
        "#include <stack>\n",
        "\n",
        "using namespace std;\n",
        "string removeStar(string s){\n",
        "\tstack<char> st;\n",
        "\tfor(char c:s)\n",
        "\t{\n",
        "\t\tif(c=='*')\n",
        "\t\t{\n",
        "\t\t\tif(!st.empty())\n",
        "\t\t\t{\n",
        "\t\t\t\tst.pop();\n",
        "\t\t\t}\n",
        "\t\t}\n",
        "\t\telse\n",
        "\t\t{\n",
        "\t\t\tst.push(c);\n",
        "\t\t}\n",
        "\t}\n",
        "\tstring result = \"\";\n",
        "\twhile(!st.empty())\n",
        "\t{\n",
        "\t\tresult = st.top()+result;\n",
        "\t\tst.pop();\n",
        "\t}\n",
        "\n",
        "\treturn result;\n",
        "}\n",
        "\n",
        "int main(){\n",
        "\tstring s=\"Leet**cod*e\";\n",
        "\tstring  result = removeStar(s);\n",
        "\tcout<<\"Resulting String :\"<<result<<endl;\n",
        "\treturn 0;\n",
        "}\n",
        "\n",
        "\n",
        "\n"
      ],
      "metadata": {
        "colab": {
          "base_uri": "https://localhost:8080/"
        },
        "id": "CShL5QbPLngE",
        "outputId": "51a6fc8f-cf24-4d41-bce8-3900baff5d70"
      },
      "execution_count": 41,
      "outputs": [
        {
          "output_type": "stream",
          "name": "stdout",
          "text": [
            "Writing /content/drive/MyDrive/C++/3.cpp\n"
          ]
        }
      ]
    },
    {
      "cell_type": "code",
      "source": [
        "%%shell\n",
        "\n",
        "g++ /content/drive/MyDrive/C++/3.cpp -o output\n",
        "./output"
      ],
      "metadata": {
        "colab": {
          "base_uri": "https://localhost:8080/"
        },
        "id": "Rv03PRm1Ls8c",
        "outputId": "0a3acad7-fa0c-4c57-be4d-77a28dc12838"
      },
      "execution_count": 43,
      "outputs": [
        {
          "output_type": "stream",
          "name": "stdout",
          "text": [
            "Resulting String :Lecoe\n"
          ]
        },
        {
          "output_type": "execute_result",
          "data": {
            "text/plain": []
          },
          "metadata": {},
          "execution_count": 43
        }
      ]
    }
  ]
}