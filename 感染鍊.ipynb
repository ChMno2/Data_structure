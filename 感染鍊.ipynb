{
  "nbformat": 4,
  "nbformat_minor": 0,
  "metadata": {
    "colab": {
      "provenance": [],
      "mount_file_id": "1Yq_dTC6C_qXn4ncGIyXlqGbTv305MaMQ",
      "authorship_tag": "ABX9TyMdFs4K984dWokhv/3yfC2O",
      "include_colab_link": true
    },
    "kernelspec": {
      "name": "python3",
      "display_name": "Python 3"
    },
    "language_info": {
      "name": "python"
    }
  },
  "cells": [
    {
      "cell_type": "markdown",
      "metadata": {
        "id": "view-in-github",
        "colab_type": "text"
      },
      "source": [
        "<a href=\"https://colab.research.google.com/github/ChMno2/Data_structure/blob/main/%E6%84%9F%E6%9F%93%E9%8D%8A.ipynb\" target=\"_parent\"><img src=\"https://colab.research.google.com/assets/colab-badge.svg\" alt=\"Open In Colab\"/></a>"
      ]
    },
    {
      "cell_type": "markdown",
      "source": [
        "### 給定村民人數 N 與確診村民編號 M，接下來會有 N 筆 S、T 數對代表的是編號 S 和編號 T 的村民接觸過。請求出間接、直接接觸的村民有哪些人 (要把他們抓起來隔離)。\n"
      ],
      "metadata": {
        "id": "5x_LFcolGC4s"
      }
    },
    {
      "cell_type": "markdown",
      "source": [
        "[# 無向連通圖](https://)"
      ],
      "metadata": {
        "id": "UKSWRTPHSKYR"
      }
    },
    {
      "cell_type": "code",
      "source": [
        "from google.colab import drive\n",
        "drive.mount('/content/drive')"
      ],
      "metadata": {
        "colab": {
          "base_uri": "https://localhost:8080/"
        },
        "id": "1kyc1AnMMLuC",
        "outputId": "04b82e53-65a3-4a70-8f7e-c06217994fad"
      },
      "execution_count": 7,
      "outputs": [
        {
          "output_type": "stream",
          "name": "stdout",
          "text": [
            "Drive already mounted at /content/drive; to attempt to forcibly remount, call drive.mount(\"/content/drive\", force_remount=True).\n"
          ]
        }
      ]
    },
    {
      "cell_type": "code",
      "source": [
        "%%writefile /content/drive/MyDrive/C++/2.cpp\n",
        "\n",
        "#include <bits/stdc++.h>\n",
        "using namespace std;\n",
        "void dfs(int M,const vector< vector<int> >& graph,set<int>& visited){\n",
        "  visited.insert(M);\n",
        "  for(int i=0;i<graph[M].size();i++){\n",
        "    if(visited.find(graph[M][i])==visited.end())\n",
        "    {\n",
        "    \tdfs(graph[M][i],graph,visited);\n",
        "\t}\n",
        "  }\n",
        "}\n",
        "\n",
        "int main(){\n",
        "  int N,M;\n",
        "  cout<<\"輸入村民數和確診村民編號:\";\n",
        "  cin>>N>>M;\n",
        "  vector< vector<int> > graph(N+1);\n",
        "  int s,t,concactCount;\n",
        "  cout<<\"輸入接觸次數:\";\n",
        "  cin>>concactCount;\n",
        "  for(int i=0;i<concactCount;i++){\n",
        "    cin>>s>>t;\n",
        "    graph[s].push_back(t);\n",
        "    graph[t].push_back(s);\n",
        "  }\n",
        "  set <int> visited;\n",
        "  dfs(M,graph,visited);\n",
        "  cout<<\"需要隔離的村民:\";\n",
        "  for(int it:visited)\n",
        "    cout<<it<<\" \";\n",
        "  cout<<endl;\n",
        "  return 0;\n",
        "}\n",
        "\n",
        "\n",
        "\n"
      ],
      "metadata": {
        "colab": {
          "base_uri": "https://localhost:8080/"
        },
        "id": "CShL5QbPLngE",
        "outputId": "53f6ae35-5d14-4bbf-bf17-26aa3ba2611b"
      },
      "execution_count": 39,
      "outputs": [
        {
          "output_type": "stream",
          "name": "stdout",
          "text": [
            "Overwriting /content/drive/MyDrive/C++/2.cpp\n"
          ]
        }
      ]
    },
    {
      "cell_type": "code",
      "source": [
        "%%shell\n",
        "\n",
        "g++ /content/drive/MyDrive/C++/2.cpp -o output\n",
        "./output"
      ],
      "metadata": {
        "colab": {
          "base_uri": "https://localhost:8080/"
        },
        "id": "Rv03PRm1Ls8c",
        "outputId": "5f204e8b-b0c1-4787-8e7a-ec3e650b0235"
      },
      "execution_count": 40,
      "outputs": [
        {
          "output_type": "stream",
          "name": "stdout",
          "text": [
            "輸入村民數和確診村民編號:5 2\n",
            "輸入接觸次數:3\n",
            "1 2\n",
            "2 3\n",
            "4 5\n",
            "需要隔離的村民:1 2 3 \n"
          ]
        },
        {
          "output_type": "execute_result",
          "data": {
            "text/plain": []
          },
          "metadata": {},
          "execution_count": 40
        }
      ]
    }
  ]
}