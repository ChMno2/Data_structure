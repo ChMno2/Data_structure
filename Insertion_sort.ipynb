{
  "nbformat": 4,
  "nbformat_minor": 0,
  "metadata": {
    "colab": {
      "provenance": [],
      "authorship_tag": "ABX9TyOPdupjnerIoBtnUF9tR5ig",
      "include_colab_link": true
    },
    "kernelspec": {
      "name": "python3",
      "display_name": "Python 3"
    },
    "language_info": {
      "name": "python"
    }
  },
  "cells": [
    {
      "cell_type": "markdown",
      "metadata": {
        "id": "view-in-github",
        "colab_type": "text"
      },
      "source": [
        "<a href=\"https://colab.research.google.com/github/ChMno2/Data_structure/blob/main/Insertion_sort.ipynb\" target=\"_parent\"><img src=\"https://colab.research.google.com/assets/colab-badge.svg\" alt=\"Open In Colab\"/></a>"
      ]
    },
    {
      "cell_type": "code",
      "execution_count": 1,
      "metadata": {
        "colab": {
          "base_uri": "https://localhost:8080/"
        },
        "id": "tZbVa_2XE3fh",
        "outputId": "1637f652-ff6c-4029-f6b1-1cb9f70be046"
      },
      "outputs": [
        {
          "output_type": "stream",
          "name": "stdout",
          "text": [
            "Sorted list: [1, 2, 4, 5, 8, 9]\n"
          ]
        }
      ],
      "source": [
        "# prompt: insertion sort\n",
        "\n",
        "def insertion_sort(arr):\n",
        "  \"\"\"\n",
        "  Sorts a list using the insertion sort algorithm.\n",
        "\n",
        "  Args:\n",
        "    arr: The list to be sorted.\n",
        "\n",
        "  Returns:\n",
        "    The sorted list.\n",
        "  \"\"\"\n",
        "  for i in range(1, len(arr)):\n",
        "    key = arr[i]\n",
        "    j = i - 1\n",
        "    while j >= 0 and key < arr[j]:\n",
        "      arr[j + 1] = arr[j]\n",
        "      j -= 1\n",
        "    arr[j + 1] = key\n",
        "  return arr\n",
        "\n",
        "# Example usage:\n",
        "my_list = [5, 2, 8, 1, 9, 4]\n",
        "sorted_list = insertion_sort(my_list)\n",
        "print(\"Sorted list:\", sorted_list)\n"
      ]
    }
  ]
}