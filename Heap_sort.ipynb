{
  "nbformat": 4,
  "nbformat_minor": 0,
  "metadata": {
    "colab": {
      "provenance": [],
      "authorship_tag": "ABX9TyPVsahb06jInjti6md51DOA",
      "include_colab_link": true
    },
    "kernelspec": {
      "name": "python3",
      "display_name": "Python 3"
    },
    "language_info": {
      "name": "python"
    }
  },
  "cells": [
    {
      "cell_type": "markdown",
      "metadata": {
        "id": "view-in-github",
        "colab_type": "text"
      },
      "source": [
        "<a href=\"https://colab.research.google.com/github/ChMno2/Data_structure/blob/main/Heap_sort.ipynb\" target=\"_parent\"><img src=\"https://colab.research.google.com/assets/colab-badge.svg\" alt=\"Open In Colab\"/></a>"
      ]
    },
    {
      "cell_type": "code",
      "execution_count": 13,
      "metadata": {
        "colab": {
          "base_uri": "https://localhost:8080/"
        },
        "id": "ccmYtZoH30ya",
        "outputId": "41a667e8-d780-4da2-8333-734dc5697aab"
      },
      "outputs": [
        {
          "output_type": "stream",
          "name": "stdout",
          "text": [
            "current num: 9, left: 6, right: N/A\n",
            "largest: 9\n",
            "current num: 7, left: 2, right: 10\n",
            "largest: 10\n",
            "change 10 and 7 [1, 10, 9, 2, 7, 6]\n",
            "current num: 7, left: N/A, right: N/A\n",
            "largest: 7\n",
            "current num: 1, left: 10, right: 9\n",
            "largest: 10\n",
            "change 10 and 1 [10, 1, 9, 2, 7, 6]\n",
            "current num: 1, left: 2, right: 7\n",
            "largest: 7\n",
            "change 7 and 1 [10, 7, 9, 2, 1, 6]\n",
            "current num: 1, left: N/A, right: N/A\n",
            "largest: 1\n",
            "最終的堆數組: [10, 7, 9, 2, 1, 6]\n"
          ]
        }
      ],
      "source": [
        "def max_heapify(arr, i, size):\n",
        "    left_index = 2 * i + 1\n",
        "    right_index = 2 * i + 2\n",
        "    largest = i\n",
        "\n",
        "    # 獲取左子節點的值，如果左子節點存在\n",
        "    left_val = arr[left_index] if left_index <= size else 'N/A'\n",
        "    # 獲取右子節點的值，如果右子節點存在\n",
        "    right_val = arr[right_index] if right_index <= size else 'N/A'\n",
        "\n",
        "    print(f'current num: {arr[largest]}, left: {left_val}, right: {right_val}')\n",
        "\n",
        "    # 比較左子節點\n",
        "    if left_index <= size and arr[largest] < arr[left_index]:\n",
        "        largest = left_index\n",
        "\n",
        "    # 比較右子節點\n",
        "    if right_index <= size and arr[largest] < arr[right_index]:\n",
        "        largest = right_index\n",
        "\n",
        "    print(f'largest: {arr[largest]}')\n",
        "\n",
        "    # 如果最大值不是當前節點，則交換並遞迴調整子樹\n",
        "    if i != largest:\n",
        "        arr[i], arr[largest] = arr[largest], arr[i]\n",
        "        print(f'change {arr[i]} and {arr[largest]}', arr)\n",
        "        max_heapify(arr, largest, size)\n",
        "\n",
        "# 初始數組\n",
        "nums = [1, 7, 9, 2, 10, 6]\n",
        "# 計算最後一個父節點的索引\n",
        "last_parent_num_index = (len(nums) - 2) // 2\n",
        "\n",
        "# 從最後一個父節點開始，向前遍歷並調整堆\n",
        "for i in range(last_parent_num_index, -1, -1):\n",
        "    max_heapify(nums, i, len(nums) - 1)\n",
        "\n",
        "print(\"最終的堆數組:\", nums)\n"
      ]
    },
    {
      "cell_type": "code",
      "source": [
        "def max_heapify(arr,i,size):\n",
        "  left_index = 2*i+1\n",
        "  right_index = 2*i+2\n",
        "  largest = i\n",
        "\n",
        "  if right_index <= size and arr[right_index]>arr[largest]:\n",
        "    largest = right_index\n",
        "  if left_index<=size and arr[left_index]>arr[largest] :\n",
        "    largest = left_index\n",
        "  if i!=largest:\n",
        "    arr[i],arr[largest] =arr[largest],arr[i]\n",
        "    max_heapify(arr,largest,size)\n",
        "\n",
        "nums = [1 ,7 ,9 ,2 ,10 ,6 ]\n",
        "last_parent_num_index =(len(nums)-2)//2\n",
        "for i in range(last_parent_num_index,-1,-1):\n",
        "  max_heapify(nums, i ,len(nums) - 1)\n",
        "print(\"最終的堆數組\",nums)"
      ],
      "metadata": {
        "colab": {
          "base_uri": "https://localhost:8080/"
        },
        "id": "FcNF2Tpa75YE",
        "outputId": "2d77b808-b7f4-47f0-cd9f-be67ef0c4690"
      },
      "execution_count": 12,
      "outputs": [
        {
          "output_type": "stream",
          "name": "stdout",
          "text": [
            "最終的堆數組 [10, 7, 9, 2, 1, 6]\n"
          ]
        }
      ]
    },
    {
      "cell_type": "code",
      "source": [],
      "metadata": {
        "id": "Vb4vunNG8jNX"
      },
      "execution_count": 2,
      "outputs": []
    }
  ]
}