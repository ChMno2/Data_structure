{
  "nbformat": 4,
  "nbformat_minor": 0,
  "metadata": {
    "colab": {
      "provenance": [],
      "authorship_tag": "ABX9TyO5q+rOPuS/+Wqa8scdQGrZ",
      "include_colab_link": true
    },
    "kernelspec": {
      "name": "python3",
      "display_name": "Python 3"
    },
    "language_info": {
      "name": "python"
    }
  },
  "cells": [
    {
      "cell_type": "markdown",
      "metadata": {
        "id": "view-in-github",
        "colab_type": "text"
      },
      "source": [
        "<a href=\"https://colab.research.google.com/github/ChMno2/Data_structure/blob/main/selection_sort.ipynb\" target=\"_parent\"><img src=\"https://colab.research.google.com/assets/colab-badge.svg\" alt=\"Open In Colab\"/></a>"
      ]
    },
    {
      "cell_type": "code",
      "execution_count": 1,
      "metadata": {
        "colab": {
          "base_uri": "https://localhost:8080/"
        },
        "id": "0BV95SrRFSOJ",
        "outputId": "34a7669c-82d1-4c79-d24f-b45a14599033"
      },
      "outputs": [
        {
          "output_type": "stream",
          "name": "stdout",
          "text": [
            "Sorted array: [11, 12, 22, 25, 64]\n"
          ]
        }
      ],
      "source": [
        "# prompt: selection sort\n",
        "\n",
        "def selection_sort(arr):\n",
        "  \"\"\"\n",
        "  Sorts a list using selection sort algorithm.\n",
        "\n",
        "  Args:\n",
        "      arr: The list to be sorted.\n",
        "\n",
        "  Returns:\n",
        "      The sorted list.\n",
        "  \"\"\"\n",
        "  n = len(arr)\n",
        "  for i in range(n):\n",
        "    # Find the minimum element in the unsorted part of the array\n",
        "    min_idx = i\n",
        "    for j in range(i+1, n):\n",
        "      if arr[j] < arr[min_idx]:\n",
        "        min_idx = j\n",
        "\n",
        "    # Swap the found minimum element with the first element\n",
        "    arr[i], arr[min_idx] = arr[min_idx], arr[i]\n",
        "\n",
        "  return arr\n",
        "\n",
        "# Example usage:\n",
        "my_list = [64, 25, 12, 22, 11]\n",
        "sorted_list = selection_sort(my_list)\n",
        "print(\"Sorted array:\", sorted_list)\n"
      ]
    }
  ]
}