{
  "nbformat": 4,
  "nbformat_minor": 0,
  "metadata": {
    "colab": {
      "provenance": [],
      "authorship_tag": "ABX9TyMQVYHa84MvX09wIbpSh0mm",
      "include_colab_link": true
    },
    "kernelspec": {
      "name": "python3",
      "display_name": "Python 3"
    },
    "language_info": {
      "name": "python"
    }
  },
  "cells": [
    {
      "cell_type": "markdown",
      "metadata": {
        "id": "view-in-github",
        "colab_type": "text"
      },
      "source": [
        "<a href=\"https://colab.research.google.com/github/ChMno2/Data_structure/blob/main/0_1%E8%83%8C%E5%8C%85%E5%95%8F%E9%A1%8C.ipynb\" target=\"_parent\"><img src=\"https://colab.research.google.com/assets/colab-badge.svg\" alt=\"Open In Colab\"/></a>"
      ]
    },
    {
      "cell_type": "code",
      "execution_count": 1,
      "metadata": {
        "colab": {
          "base_uri": "https://localhost:8080/"
        },
        "id": "5QV8Nz2xvSkr",
        "outputId": "197e422d-a8a2-468b-bb78-c22434809e62"
      },
      "outputs": [
        {
          "output_type": "stream",
          "name": "stdout",
          "text": [
            "最大價值: 220\n"
          ]
        }
      ],
      "source": [
        "# prompt: 背包問題\n",
        "\n",
        "def knapsack(capacity, weights, values):\n",
        "  \"\"\"\n",
        "  解決背包問題。\n",
        "\n",
        "  Args:\n",
        "    capacity: 背包的容量。\n",
        "    weights: 每個物品的重量。\n",
        "    values: 每個物品的價值。\n",
        "\n",
        "  Returns:\n",
        "    可以放入背包的最大價值。\n",
        "  \"\"\"\n",
        "\n",
        "  n = len(weights)\n",
        "  dp = [[0 for _ in range(capacity + 1)] for _ in range(n + 1)]\n",
        "\n",
        "  for i in range(1, n + 1):\n",
        "    for w in range(1, capacity + 1):\n",
        "      if weights[i - 1] <= w:\n",
        "        dp[i][w] = max(dp[i - 1][w], dp[i - 1][w - weights[i - 1]] + values[i - 1])\n",
        "      else:\n",
        "        dp[i][w] = dp[i - 1][w]\n",
        "\n",
        "  return dp[n][capacity]\n",
        "\n",
        "\n",
        "# 範例\n",
        "capacity = 50\n",
        "weights = [10, 20, 30]\n",
        "values = [60, 100, 120]\n",
        "\n",
        "max_value = knapsack(capacity, weights, values)\n",
        "print(f\"最大價值: {max_value}\")\n"
      ]
    }
  ]
}